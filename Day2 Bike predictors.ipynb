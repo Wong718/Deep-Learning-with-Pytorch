{
 "cells": [
  {
   "cell_type": "markdown",
   "id": "a065c12a",
   "metadata": {},
   "source": [
    "# Version 1.0"
   ]
  },
  {
   "cell_type": "code",
   "execution_count": 1,
   "id": "fbc2d029",
   "metadata": {},
   "outputs": [],
   "source": [
    "import pandas as pd\n",
    "import numpy as np\n",
    "import torch\n",
    "import torch.optim as optim\n",
    "import matplotlib.pyplot as plt"
   ]
  },
  {
   "cell_type": "markdown",
   "id": "e7052701",
   "metadata": {},
   "source": [
    "## 读取数据"
   ]
  },
  {
   "cell_type": "code",
   "execution_count": 26,
   "id": "92da7c5b",
   "metadata": {},
   "outputs": [
    {
     "data": {
      "text/html": [
       "<div>\n",
       "<style scoped>\n",
       "    .dataframe tbody tr th:only-of-type {\n",
       "        vertical-align: middle;\n",
       "    }\n",
       "\n",
       "    .dataframe tbody tr th {\n",
       "        vertical-align: top;\n",
       "    }\n",
       "\n",
       "    .dataframe thead th {\n",
       "        text-align: right;\n",
       "    }\n",
       "</style>\n",
       "<table border=\"1\" class=\"dataframe\">\n",
       "  <thead>\n",
       "    <tr style=\"text-align: right;\">\n",
       "      <th></th>\n",
       "      <th>datetime</th>\n",
       "      <th>season</th>\n",
       "      <th>holiday</th>\n",
       "      <th>workingday</th>\n",
       "      <th>weather</th>\n",
       "      <th>temp</th>\n",
       "      <th>atemp</th>\n",
       "      <th>humidity</th>\n",
       "      <th>windspeed</th>\n",
       "      <th>casual</th>\n",
       "      <th>registered</th>\n",
       "      <th>count</th>\n",
       "    </tr>\n",
       "  </thead>\n",
       "  <tbody>\n",
       "    <tr>\n",
       "      <th>0</th>\n",
       "      <td>2011-01-01 00:00:00</td>\n",
       "      <td>1</td>\n",
       "      <td>0</td>\n",
       "      <td>0</td>\n",
       "      <td>1</td>\n",
       "      <td>9.84</td>\n",
       "      <td>14.395</td>\n",
       "      <td>81</td>\n",
       "      <td>0.0</td>\n",
       "      <td>3</td>\n",
       "      <td>13</td>\n",
       "      <td>16</td>\n",
       "    </tr>\n",
       "    <tr>\n",
       "      <th>1</th>\n",
       "      <td>2011-01-01 01:00:00</td>\n",
       "      <td>1</td>\n",
       "      <td>0</td>\n",
       "      <td>0</td>\n",
       "      <td>1</td>\n",
       "      <td>9.02</td>\n",
       "      <td>13.635</td>\n",
       "      <td>80</td>\n",
       "      <td>0.0</td>\n",
       "      <td>8</td>\n",
       "      <td>32</td>\n",
       "      <td>40</td>\n",
       "    </tr>\n",
       "    <tr>\n",
       "      <th>2</th>\n",
       "      <td>2011-01-01 02:00:00</td>\n",
       "      <td>1</td>\n",
       "      <td>0</td>\n",
       "      <td>0</td>\n",
       "      <td>1</td>\n",
       "      <td>9.02</td>\n",
       "      <td>13.635</td>\n",
       "      <td>80</td>\n",
       "      <td>0.0</td>\n",
       "      <td>5</td>\n",
       "      <td>27</td>\n",
       "      <td>32</td>\n",
       "    </tr>\n",
       "    <tr>\n",
       "      <th>3</th>\n",
       "      <td>2011-01-01 03:00:00</td>\n",
       "      <td>1</td>\n",
       "      <td>0</td>\n",
       "      <td>0</td>\n",
       "      <td>1</td>\n",
       "      <td>9.84</td>\n",
       "      <td>14.395</td>\n",
       "      <td>75</td>\n",
       "      <td>0.0</td>\n",
       "      <td>3</td>\n",
       "      <td>10</td>\n",
       "      <td>13</td>\n",
       "    </tr>\n",
       "    <tr>\n",
       "      <th>4</th>\n",
       "      <td>2011-01-01 04:00:00</td>\n",
       "      <td>1</td>\n",
       "      <td>0</td>\n",
       "      <td>0</td>\n",
       "      <td>1</td>\n",
       "      <td>9.84</td>\n",
       "      <td>14.395</td>\n",
       "      <td>75</td>\n",
       "      <td>0.0</td>\n",
       "      <td>0</td>\n",
       "      <td>1</td>\n",
       "      <td>1</td>\n",
       "    </tr>\n",
       "  </tbody>\n",
       "</table>\n",
       "</div>"
      ],
      "text/plain": [
       "              datetime  season  holiday  workingday  weather  temp   atemp  \\\n",
       "0  2011-01-01 00:00:00       1        0           0        1  9.84  14.395   \n",
       "1  2011-01-01 01:00:00       1        0           0        1  9.02  13.635   \n",
       "2  2011-01-01 02:00:00       1        0           0        1  9.02  13.635   \n",
       "3  2011-01-01 03:00:00       1        0           0        1  9.84  14.395   \n",
       "4  2011-01-01 04:00:00       1        0           0        1  9.84  14.395   \n",
       "\n",
       "   humidity  windspeed  casual  registered  count  \n",
       "0        81        0.0       3          13     16  \n",
       "1        80        0.0       8          32     40  \n",
       "2        80        0.0       5          27     32  \n",
       "3        75        0.0       3          10     13  \n",
       "4        75        0.0       0           1      1  "
      ]
     },
     "execution_count": 26,
     "metadata": {},
     "output_type": "execute_result"
    }
   ],
   "source": [
    "data_path='./数据集/Bike Sharing/train.csv'\n",
    "rides=pd.read_csv(data_path)\n",
    "rides.head()"
   ]
  },
  {
   "cell_type": "code",
   "execution_count": 3,
   "id": "8febdb54",
   "metadata": {},
   "outputs": [],
   "source": [
    "counts=rides['count'][:50]\n",
    "x=np.arange(len(counts))\n",
    "y=np.array(counts)"
   ]
  },
  {
   "cell_type": "code",
   "execution_count": 4,
   "id": "35c5ffc3",
   "metadata": {},
   "outputs": [],
   "source": [
    "# plt.figure(figsize=(10,7))\n",
    "# plt.plot(x,y,'o-')\n",
    "# plt.xlable('X')\n",
    "# plt.ylable('Y')"
   ]
  },
  {
   "cell_type": "markdown",
   "id": "1c16ad3f",
   "metadata": {},
   "source": [
    "## 定义变量"
   ]
  },
  {
   "cell_type": "markdown",
   "id": "33ed3153",
   "metadata": {},
   "source": [
    "### x做归一化处理"
   ]
  },
  {
   "cell_type": "code",
   "execution_count": 11,
   "id": "85c97021",
   "metadata": {},
   "outputs": [],
   "source": [
    "x=torch.FloatTensor(np.arange((len(counts)),dtype=float)/len(counts))\n",
    "y=torch.FloatTensor(np.array(counts,dtype=float))\n",
    "sz=10\n",
    "weights=torch.randn((1,sz),requires_grad=True)\n",
    "biases=torch.randn((sz),requires_grad=True)\n",
    "weights2=torch.rand((sz,1),requires_grad=True)"
   ]
  },
  {
   "cell_type": "markdown",
   "id": "ca6292bf",
   "metadata": {},
   "source": [
    "## 训练神经网络"
   ]
  },
  {
   "cell_type": "code",
   "execution_count": 12,
   "id": "1253dc86",
   "metadata": {},
   "outputs": [
    {
     "name": "stdout",
     "output_type": "stream",
     "text": [
      "loss: tensor(2159.8171, grad_fn=<MeanBackward0>)\n",
      "loss: tensor(889.9620, grad_fn=<MeanBackward0>)\n",
      "loss: tensor(638.0706, grad_fn=<MeanBackward0>)\n",
      "loss: tensor(430.4781, grad_fn=<MeanBackward0>)\n",
      "loss: tensor(224.6074, grad_fn=<MeanBackward0>)\n",
      "loss: tensor(141.8855, grad_fn=<MeanBackward0>)\n",
      "loss: tensor(108.4728, grad_fn=<MeanBackward0>)\n",
      "loss: tensor(84.6443, grad_fn=<MeanBackward0>)\n",
      "loss: tensor(66.4045, grad_fn=<MeanBackward0>)\n",
      "loss: tensor(56.2247, grad_fn=<MeanBackward0>)\n"
     ]
    }
   ],
   "source": [
    "learning_rate=0.001\n",
    "losses=[]\n",
    "x=x.view(50,-1)\n",
    "y=y.view(50,-1)\n",
    "for i in range(100000):\n",
    "    #从输入层到隐藏层\n",
    "    hidden=x*weights+biases\n",
    "    hidden=torch.sigmoid(hidden)\n",
    "    #隐藏层到输出层\n",
    "    predictions=hidden.mm(weights2)\n",
    "    #损失函数\n",
    "    loss=torch.mean((predictions-y)**2)\n",
    "    losses.append(loss.data.numpy())\n",
    "    if i%10000==0:\n",
    "        print('loss:',loss)\n",
    "    loss.backward()\n",
    "    weights.data.add_(-learning_rate*weights.grad.data)\n",
    "    biases.data.add_(-learning_rate*biases.grad.data)\n",
    "    weights2.data.add_(-learning_rate*weights2.grad.data)\n",
    "    #清空所有变量的梯度值\n",
    "    weights.grad.data.zero_()\n",
    "    biases.grad.data.zero_()\n",
    "    weights2.grad.data.zero_()"
   ]
  },
  {
   "cell_type": "markdown",
   "id": "8079338f",
   "metadata": {},
   "source": [
    "### 以上的训练结果存在过拟合现象\n",
    "原因：选择了错误的特征变量“下标”来进行训练"
   ]
  },
  {
   "cell_type": "markdown",
   "id": "23ae0073",
   "metadata": {},
   "source": [
    "# Version2.0"
   ]
  },
  {
   "cell_type": "markdown",
   "id": "fa7e9156",
   "metadata": {},
   "source": [
    "## 变量预处理"
   ]
  },
  {
   "cell_type": "markdown",
   "id": "c6024557",
   "metadata": {},
   "source": [
    "### 类型变量的预处理——独热编码\n",
    "独热编码的向量代表不同的激活模式，n为类型取值的个数"
   ]
  },
  {
   "cell_type": "code",
   "execution_count": 27,
   "id": "4fe0d19d",
   "metadata": {},
   "outputs": [],
   "source": [
    "#用pandas实现独特编码转换\n",
    "dummy_fields=['season','weather','holiday','workingday']\n",
    "for each in dummy_fields:\n",
    "    dummies=pd.get_dummies(rides[each],prefix=each,drop_first=False)\n",
    "    rides=pd.concat([rides,dummies],axis=1)"
   ]
  },
  {
   "cell_type": "code",
   "execution_count": 28,
   "id": "95e953aa",
   "metadata": {},
   "outputs": [],
   "source": [
    "fields_to_drop=['datetime','season','holiday','workingday','weather']\n",
    "data= rides.drop(fields_to_drop,axis=1)"
   ]
  },
  {
   "cell_type": "code",
   "execution_count": 29,
   "id": "aa8bf518",
   "metadata": {},
   "outputs": [
    {
     "data": {
      "text/html": [
       "<div>\n",
       "<style scoped>\n",
       "    .dataframe tbody tr th:only-of-type {\n",
       "        vertical-align: middle;\n",
       "    }\n",
       "\n",
       "    .dataframe tbody tr th {\n",
       "        vertical-align: top;\n",
       "    }\n",
       "\n",
       "    .dataframe thead th {\n",
       "        text-align: right;\n",
       "    }\n",
       "</style>\n",
       "<table border=\"1\" class=\"dataframe\">\n",
       "  <thead>\n",
       "    <tr style=\"text-align: right;\">\n",
       "      <th></th>\n",
       "      <th>temp</th>\n",
       "      <th>atemp</th>\n",
       "      <th>humidity</th>\n",
       "      <th>windspeed</th>\n",
       "      <th>casual</th>\n",
       "      <th>registered</th>\n",
       "      <th>count</th>\n",
       "      <th>season_1</th>\n",
       "      <th>season_2</th>\n",
       "      <th>season_3</th>\n",
       "      <th>season_4</th>\n",
       "      <th>weather_1</th>\n",
       "      <th>weather_2</th>\n",
       "      <th>weather_3</th>\n",
       "      <th>weather_4</th>\n",
       "      <th>holiday_0</th>\n",
       "      <th>holiday_1</th>\n",
       "      <th>workingday_0</th>\n",
       "      <th>workingday_1</th>\n",
       "    </tr>\n",
       "  </thead>\n",
       "  <tbody>\n",
       "    <tr>\n",
       "      <th>0</th>\n",
       "      <td>9.84</td>\n",
       "      <td>14.395</td>\n",
       "      <td>81</td>\n",
       "      <td>0.0</td>\n",
       "      <td>3</td>\n",
       "      <td>13</td>\n",
       "      <td>16</td>\n",
       "      <td>1</td>\n",
       "      <td>0</td>\n",
       "      <td>0</td>\n",
       "      <td>0</td>\n",
       "      <td>1</td>\n",
       "      <td>0</td>\n",
       "      <td>0</td>\n",
       "      <td>0</td>\n",
       "      <td>1</td>\n",
       "      <td>0</td>\n",
       "      <td>1</td>\n",
       "      <td>0</td>\n",
       "    </tr>\n",
       "    <tr>\n",
       "      <th>1</th>\n",
       "      <td>9.02</td>\n",
       "      <td>13.635</td>\n",
       "      <td>80</td>\n",
       "      <td>0.0</td>\n",
       "      <td>8</td>\n",
       "      <td>32</td>\n",
       "      <td>40</td>\n",
       "      <td>1</td>\n",
       "      <td>0</td>\n",
       "      <td>0</td>\n",
       "      <td>0</td>\n",
       "      <td>1</td>\n",
       "      <td>0</td>\n",
       "      <td>0</td>\n",
       "      <td>0</td>\n",
       "      <td>1</td>\n",
       "      <td>0</td>\n",
       "      <td>1</td>\n",
       "      <td>0</td>\n",
       "    </tr>\n",
       "    <tr>\n",
       "      <th>2</th>\n",
       "      <td>9.02</td>\n",
       "      <td>13.635</td>\n",
       "      <td>80</td>\n",
       "      <td>0.0</td>\n",
       "      <td>5</td>\n",
       "      <td>27</td>\n",
       "      <td>32</td>\n",
       "      <td>1</td>\n",
       "      <td>0</td>\n",
       "      <td>0</td>\n",
       "      <td>0</td>\n",
       "      <td>1</td>\n",
       "      <td>0</td>\n",
       "      <td>0</td>\n",
       "      <td>0</td>\n",
       "      <td>1</td>\n",
       "      <td>0</td>\n",
       "      <td>1</td>\n",
       "      <td>0</td>\n",
       "    </tr>\n",
       "    <tr>\n",
       "      <th>3</th>\n",
       "      <td>9.84</td>\n",
       "      <td>14.395</td>\n",
       "      <td>75</td>\n",
       "      <td>0.0</td>\n",
       "      <td>3</td>\n",
       "      <td>10</td>\n",
       "      <td>13</td>\n",
       "      <td>1</td>\n",
       "      <td>0</td>\n",
       "      <td>0</td>\n",
       "      <td>0</td>\n",
       "      <td>1</td>\n",
       "      <td>0</td>\n",
       "      <td>0</td>\n",
       "      <td>0</td>\n",
       "      <td>1</td>\n",
       "      <td>0</td>\n",
       "      <td>1</td>\n",
       "      <td>0</td>\n",
       "    </tr>\n",
       "    <tr>\n",
       "      <th>4</th>\n",
       "      <td>9.84</td>\n",
       "      <td>14.395</td>\n",
       "      <td>75</td>\n",
       "      <td>0.0</td>\n",
       "      <td>0</td>\n",
       "      <td>1</td>\n",
       "      <td>1</td>\n",
       "      <td>1</td>\n",
       "      <td>0</td>\n",
       "      <td>0</td>\n",
       "      <td>0</td>\n",
       "      <td>1</td>\n",
       "      <td>0</td>\n",
       "      <td>0</td>\n",
       "      <td>0</td>\n",
       "      <td>1</td>\n",
       "      <td>0</td>\n",
       "      <td>1</td>\n",
       "      <td>0</td>\n",
       "    </tr>\n",
       "  </tbody>\n",
       "</table>\n",
       "</div>"
      ],
      "text/plain": [
       "   temp   atemp  humidity  windspeed  casual  registered  count  season_1  \\\n",
       "0  9.84  14.395        81        0.0       3          13     16         1   \n",
       "1  9.02  13.635        80        0.0       8          32     40         1   \n",
       "2  9.02  13.635        80        0.0       5          27     32         1   \n",
       "3  9.84  14.395        75        0.0       3          10     13         1   \n",
       "4  9.84  14.395        75        0.0       0           1      1         1   \n",
       "\n",
       "   season_2  season_3  season_4  weather_1  weather_2  weather_3  weather_4  \\\n",
       "0         0         0         0          1          0          0          0   \n",
       "1         0         0         0          1          0          0          0   \n",
       "2         0         0         0          1          0          0          0   \n",
       "3         0         0         0          1          0          0          0   \n",
       "4         0         0         0          1          0          0          0   \n",
       "\n",
       "   holiday_0  holiday_1  workingday_0  workingday_1  \n",
       "0          1          0             1             0  \n",
       "1          1          0             1             0  \n",
       "2          1          0             1             0  \n",
       "3          1          0             1             0  \n",
       "4          1          0             1             0  "
      ]
     },
     "execution_count": 29,
     "metadata": {},
     "output_type": "execute_result"
    }
   ],
   "source": [
    "data.head()"
   ]
  },
  {
   "cell_type": "markdown",
   "id": "39e24666",
   "metadata": {},
   "source": [
    "### 数值变量预处理——标准化（归一化）"
   ]
  },
  {
   "cell_type": "code",
   "execution_count": 30,
   "id": "a9172ef9",
   "metadata": {},
   "outputs": [],
   "source": [
    "quant_features=['temp','atemp','humidity','windspeed']\n",
    "scaled_features={}\n",
    "for each in quant_features:\n",
    "    mean,std=data[each].mean(),data[each].std()\n",
    "    scaled_features[each]=[mean,std]\n",
    "    data.loc[:,each]=(data[each]-mean)/std"
   ]
  },
  {
   "cell_type": "code",
   "execution_count": 31,
   "id": "26117daf",
   "metadata": {},
   "outputs": [
    {
     "data": {
      "text/html": [
       "<div>\n",
       "<style scoped>\n",
       "    .dataframe tbody tr th:only-of-type {\n",
       "        vertical-align: middle;\n",
       "    }\n",
       "\n",
       "    .dataframe tbody tr th {\n",
       "        vertical-align: top;\n",
       "    }\n",
       "\n",
       "    .dataframe thead th {\n",
       "        text-align: right;\n",
       "    }\n",
       "</style>\n",
       "<table border=\"1\" class=\"dataframe\">\n",
       "  <thead>\n",
       "    <tr style=\"text-align: right;\">\n",
       "      <th></th>\n",
       "      <th>temp</th>\n",
       "      <th>atemp</th>\n",
       "      <th>humidity</th>\n",
       "      <th>windspeed</th>\n",
       "      <th>casual</th>\n",
       "      <th>registered</th>\n",
       "      <th>count</th>\n",
       "      <th>season_1</th>\n",
       "      <th>season_2</th>\n",
       "      <th>season_3</th>\n",
       "      <th>season_4</th>\n",
       "      <th>weather_1</th>\n",
       "      <th>weather_2</th>\n",
       "      <th>weather_3</th>\n",
       "      <th>weather_4</th>\n",
       "      <th>holiday_0</th>\n",
       "      <th>holiday_1</th>\n",
       "      <th>workingday_0</th>\n",
       "      <th>workingday_1</th>\n",
       "    </tr>\n",
       "  </thead>\n",
       "  <tbody>\n",
       "    <tr>\n",
       "      <th>0</th>\n",
       "      <td>-1.333599</td>\n",
       "      <td>-1.092687</td>\n",
       "      <td>0.993167</td>\n",
       "      <td>-1.567682</td>\n",
       "      <td>3</td>\n",
       "      <td>13</td>\n",
       "      <td>16</td>\n",
       "      <td>1</td>\n",
       "      <td>0</td>\n",
       "      <td>0</td>\n",
       "      <td>0</td>\n",
       "      <td>1</td>\n",
       "      <td>0</td>\n",
       "      <td>0</td>\n",
       "      <td>0</td>\n",
       "      <td>1</td>\n",
       "      <td>0</td>\n",
       "      <td>1</td>\n",
       "      <td>0</td>\n",
       "    </tr>\n",
       "    <tr>\n",
       "      <th>1</th>\n",
       "      <td>-1.438841</td>\n",
       "      <td>-1.182367</td>\n",
       "      <td>0.941206</td>\n",
       "      <td>-1.567682</td>\n",
       "      <td>8</td>\n",
       "      <td>32</td>\n",
       "      <td>40</td>\n",
       "      <td>1</td>\n",
       "      <td>0</td>\n",
       "      <td>0</td>\n",
       "      <td>0</td>\n",
       "      <td>1</td>\n",
       "      <td>0</td>\n",
       "      <td>0</td>\n",
       "      <td>0</td>\n",
       "      <td>1</td>\n",
       "      <td>0</td>\n",
       "      <td>1</td>\n",
       "      <td>0</td>\n",
       "    </tr>\n",
       "    <tr>\n",
       "      <th>2</th>\n",
       "      <td>-1.438841</td>\n",
       "      <td>-1.182367</td>\n",
       "      <td>0.941206</td>\n",
       "      <td>-1.567682</td>\n",
       "      <td>5</td>\n",
       "      <td>27</td>\n",
       "      <td>32</td>\n",
       "      <td>1</td>\n",
       "      <td>0</td>\n",
       "      <td>0</td>\n",
       "      <td>0</td>\n",
       "      <td>1</td>\n",
       "      <td>0</td>\n",
       "      <td>0</td>\n",
       "      <td>0</td>\n",
       "      <td>1</td>\n",
       "      <td>0</td>\n",
       "      <td>1</td>\n",
       "      <td>0</td>\n",
       "    </tr>\n",
       "    <tr>\n",
       "      <th>3</th>\n",
       "      <td>-1.333599</td>\n",
       "      <td>-1.092687</td>\n",
       "      <td>0.681399</td>\n",
       "      <td>-1.567682</td>\n",
       "      <td>3</td>\n",
       "      <td>10</td>\n",
       "      <td>13</td>\n",
       "      <td>1</td>\n",
       "      <td>0</td>\n",
       "      <td>0</td>\n",
       "      <td>0</td>\n",
       "      <td>1</td>\n",
       "      <td>0</td>\n",
       "      <td>0</td>\n",
       "      <td>0</td>\n",
       "      <td>1</td>\n",
       "      <td>0</td>\n",
       "      <td>1</td>\n",
       "      <td>0</td>\n",
       "    </tr>\n",
       "    <tr>\n",
       "      <th>4</th>\n",
       "      <td>-1.333599</td>\n",
       "      <td>-1.092687</td>\n",
       "      <td>0.681399</td>\n",
       "      <td>-1.567682</td>\n",
       "      <td>0</td>\n",
       "      <td>1</td>\n",
       "      <td>1</td>\n",
       "      <td>1</td>\n",
       "      <td>0</td>\n",
       "      <td>0</td>\n",
       "      <td>0</td>\n",
       "      <td>1</td>\n",
       "      <td>0</td>\n",
       "      <td>0</td>\n",
       "      <td>0</td>\n",
       "      <td>1</td>\n",
       "      <td>0</td>\n",
       "      <td>1</td>\n",
       "      <td>0</td>\n",
       "    </tr>\n",
       "  </tbody>\n",
       "</table>\n",
       "</div>"
      ],
      "text/plain": [
       "       temp     atemp  humidity  windspeed  casual  registered  count  \\\n",
       "0 -1.333599 -1.092687  0.993167  -1.567682       3          13     16   \n",
       "1 -1.438841 -1.182367  0.941206  -1.567682       8          32     40   \n",
       "2 -1.438841 -1.182367  0.941206  -1.567682       5          27     32   \n",
       "3 -1.333599 -1.092687  0.681399  -1.567682       3          10     13   \n",
       "4 -1.333599 -1.092687  0.681399  -1.567682       0           1      1   \n",
       "\n",
       "   season_1  season_2  season_3  season_4  weather_1  weather_2  weather_3  \\\n",
       "0         1         0         0         0          1          0          0   \n",
       "1         1         0         0         0          1          0          0   \n",
       "2         1         0         0         0          1          0          0   \n",
       "3         1         0         0         0          1          0          0   \n",
       "4         1         0         0         0          1          0          0   \n",
       "\n",
       "   weather_4  holiday_0  holiday_1  workingday_0  workingday_1  \n",
       "0          0          1          0             1             0  \n",
       "1          0          1          0             1             0  \n",
       "2          0          1          0             1             0  \n",
       "3          0          1          0             1             0  \n",
       "4          0          1          0             1             0  "
      ]
     },
     "execution_count": 31,
     "metadata": {},
     "output_type": "execute_result"
    }
   ],
   "source": [
    "data.head()"
   ]
  },
  {
   "cell_type": "markdown",
   "id": "013172b4",
   "metadata": {},
   "source": [
    "### 数据集的处理"
   ]
  },
  {
   "cell_type": "code",
   "execution_count": 32,
   "id": "5a0446a8",
   "metadata": {},
   "outputs": [],
   "source": [
    "test_data=data[-21*24:]\n",
    "train_data=data[:21*24]\n",
    "target_fields=['casual','registered','count']\n",
    "features,targets=train_data.drop(target_fields,axis=1),train_data[target_fields]\n",
    "test_features,test_targets=test_data.drop(target_fields,axis=1),test_data[target_fields]\n",
    "#转换为numpy数组\n",
    "X=features.values\n",
    "Y=targets['count'].values\n",
    "Y=Y.astype(float)\n",
    "\n",
    "Y=np.reshape(Y,[len(Y),1])\n",
    "losses=[]"
   ]
  },
  {
   "cell_type": "markdown",
   "id": "3052056e",
   "metadata": {},
   "source": [
    "### 构建神经网络\n",
    "自动进行张量计算，完成实现神经网络搭建"
   ]
  },
  {
   "cell_type": "code",
   "execution_count": 35,
   "id": "bf28dfaf",
   "metadata": {},
   "outputs": [
    {
     "data": {
      "text/plain": [
       "(504, 16)"
      ]
     },
     "execution_count": 35,
     "metadata": {},
     "output_type": "execute_result"
    }
   ],
   "source": [
    "X.shape"
   ]
  },
  {
   "cell_type": "code",
   "execution_count": 36,
   "id": "4057ef17",
   "metadata": {},
   "outputs": [],
   "source": [
    "input_size=features.shape[1]\n",
    "hidden_size=10\n",
    "output_size=1\n",
    "batch_size=128\n",
    "neu=torch.nn.Sequential(\n",
    "    torch.nn.Linear(input_size,hidden_size),\n",
    "    torch.nn.Sigmoid(),\n",
    "    torch.nn.Linear(hidden_size,output_size),\n",
    ")"
   ]
  },
  {
   "cell_type": "markdown",
   "id": "ac2f629e",
   "metadata": {},
   "source": [
    "torch.nn.Sequential是将一系列的运算模块按顺序搭建成一个多层的神经网络，与动态计算图的层次相对应\n",
    "torch.nn.Linear()是将两个层进行线性映射\n",
    "torch.nn.Sigmoid()激活函数\n",
    "另有Pytorch自带的损失函数：cost=torch.nn.MSELoss() 只要调用cost(x,y)就可以预测向量x和y之间的均方误差\n",
    "Pytorch还自带了优化器自动实现优化算法：optimizer=torch.optim.SGD(neu.parameters(),lr=0.01)——随机梯度下降算法"
   ]
  },
  {
   "cell_type": "markdown",
   "id": "8bf0f534",
   "metadata": {},
   "source": [
    "### 数据的批处理\n",
    "防止运算速度过慢，迭代不收敛的问题"
   ]
  },
  {
   "cell_type": "code",
   "execution_count": 40,
   "id": "f2655482",
   "metadata": {
    "scrolled": true
   },
   "outputs": [
    {
     "name": "stdout",
     "output_type": "stream",
     "text": [
      "0 5545.4326\n",
      "0 5085.672\n",
      "0 4632.17\n",
      "0 4614.0923\n",
      "100 1940.2241\n",
      "100 1805.812\n",
      "100 1682.9286\n",
      "100 1816.5552\n",
      "200 1917.9707\n",
      "200 1753.9587\n",
      "200 1648.3073\n",
      "200 1763.8293\n",
      "300 1911.564\n",
      "300 1735.5107\n",
      "300 1637.4432\n",
      "300 1746.137\n",
      "400 1907.0818\n",
      "400 1725.4222\n",
      "400 1630.0415\n",
      "400 1734.9241\n",
      "500 1926.75\n",
      "500 1735.5829\n",
      "500 1634.0289\n",
      "500 1721.8033\n",
      "600 1906.5538\n",
      "600 1717.6418\n",
      "600 1621.7822\n",
      "600 1709.4929\n",
      "700 1891.1277\n",
      "700 1705.9849\n",
      "700 1613.3135\n",
      "700 1700.8276\n",
      "800 1876.0206\n",
      "800 1696.4001\n",
      "800 1606.081\n",
      "800 1693.6073\n",
      "900 1862.2977\n",
      "900 1688.3721\n",
      "900 1599.5253\n",
      "900 1687.2935\n"
     ]
    }
   ],
   "source": [
    "losses=[]\n",
    "cost=torch.nn.MSELoss()\n",
    "optimizer=torch.optim.SGD(neu.parameters(),lr=0.01)\n",
    "for i in range(1000):\n",
    "    batch_loss=[]\n",
    "    for start in range(0,len(X),batch_size):\n",
    "        end=start+batch_size if start+batch_size<len(X)else len(X)\n",
    "        xx=torch.FloatTensor(X[start:end])\n",
    "        yy=torch.FloatTensor(Y[start:end])\n",
    "        predict=neu(xx)\n",
    "        loss=cost(predict,yy)\n",
    "        optimizer.zero_grad()\n",
    "        loss.backward()\n",
    "        optimizer.step()\n",
    "        batch_loss.append(loss.data.numpy())\n",
    "        if i % 100==0:\n",
    "            losses.append(np.mean(batch_loss))\n",
    "            print(i,np.mean(batch_loss))\n",
    "    "
   ]
  },
  {
   "cell_type": "markdown",
   "id": "c25b6543",
   "metadata": {},
   "source": [
    "### 测试神经网络"
   ]
  },
  {
   "cell_type": "code",
   "execution_count": 42,
   "id": "8d4c2643",
   "metadata": {},
   "outputs": [],
   "source": [
    "targets=test_targets['count']\n",
    "targets=targets.values.reshape([len(targets),1])\n",
    "targets=targets.astype(float)\n",
    "x=torch.FloatTensor(test_features.values)\n",
    "y=torch.FloatTensor(targets)\n",
    "predict=neu(x)\n",
    "predict=predict.data.numpy()\n",
    "difference=(predict-targets).mean()"
   ]
  },
  {
   "cell_type": "code",
   "execution_count": 43,
   "id": "0772916b",
   "metadata": {},
   "outputs": [
    {
     "data": {
      "text/plain": [
       "-158.55740046548465"
      ]
     },
     "execution_count": 43,
     "metadata": {},
     "output_type": "execute_result"
    }
   ],
   "source": [
    "difference"
   ]
  },
  {
   "cell_type": "markdown",
   "id": "78b01b0f",
   "metadata": {},
   "source": [
    "# 剖析神经网络Neu"
   ]
  },
  {
   "cell_type": "markdown",
   "id": "4d8545e9",
   "metadata": {},
   "source": [
    "所有网络参数的信息都储存在Neu的named_parameters集合中"
   ]
  },
  {
   "cell_type": "code",
   "execution_count": null,
   "id": "ad4ada07",
   "metadata": {},
   "outputs": [],
   "source": [
    "#提取神经网络中出现的参数\n",
    "def feature(X,net):\n",
    "    X=torch.from_numpy(X).type(torch.FloatTensor)\n",
    "    dic=dict(net.named_parameters()) #dict创造字典\n",
    "    weights=dic['O.weight']\n",
    "    biases=dic['O.bias']\n",
    "    h=torch.sigmoid((X.mm(weights.t()))+biases.expand([len(X),len(biases)]))\n",
    "    return h"
   ]
  },
  {
   "cell_type": "code",
   "execution_count": null,
   "id": "7337869f",
   "metadata": {},
   "outputs": [],
   "source": [
    "#选取预测不准的几天\n",
    "bool1=rides['dteday']=='2012-12-22'\n",
    "bool2=rides['dteday']=='2012-12-23'\n",
    "bool3=rides['dteday']=='2012-12-24'\n",
    "#三个布尔值求与\n",
    "bools=[any(tup) for tup in zip(bool1,bool2,bool3)]\n",
    "subset=test_features.loc[rides[bools].index]\n",
    "subtarget=test_targets.loc[rides[bools].index]\n",
    "subtargets=subtargets['count']\n",
    "subtargets=subtargets.values.reshape([len(subtargets),1])\n",
    "#读取隐含神经元的激活函数\n",
    "result=feature(subset.values,neu).data.numpy\n",
    "#这些数据对应的预测值\n",
    "predict=neu(torch.FloatTensor(subset.values)).data.numpy()\n",
    "#将预测值还原为原始数据的取值范围\n",
    "mean,std=scaled_features['counts']\n",
    "predict=predict*std+mean\n",
    "subtargets=subtarget*std+mean"
   ]
  },
  {
   "cell_type": "code",
   "execution_count": null,
   "id": "8f09f9e0",
   "metadata": {},
   "outputs": [],
   "source": [
    "#将所有的神经元激活水平画在同一张图上、\n",
    "fig,ax=plt.subplots(figuresize=(8,6))\n",
    "ax.plot(results[:,:],'.:',alpha=0,1)\n",
    "ax.plot((predict-min(predict))/(max(predict)-min(predict)),'bo-',label='Prediction')\n",
    "ax.plot((subtargets-min(predict))/(max(predict)-min(predict)),'ro-',label=='Real')\n",
    "ax.plot(results[:,5],'.:',alpha=1,;label='Neuro 6')"
   ]
  },
  {
   "cell_type": "code",
   "execution_count": null,
   "id": "21fc9c24",
   "metadata": {},
   "outputs": [],
   "source": [
    "#权重可视化\n",
    "dic=dict(neu.named_parameters())\n",
    "weights=dic['O.weight']\n",
    "plt.plot(weights.data.numpy()[6,:],'o-')\n",
    "plt.xlabel('input Neurons')\n",
    "plt.ylabel('Weight')"
   ]
  }
 ],
 "metadata": {
  "kernelspec": {
   "display_name": "Python 3 (ipykernel)",
   "language": "python",
   "name": "python3"
  },
  "language_info": {
   "codemirror_mode": {
    "name": "ipython",
    "version": 3
   },
   "file_extension": ".py",
   "mimetype": "text/x-python",
   "name": "python",
   "nbconvert_exporter": "python",
   "pygments_lexer": "ipython3",
   "version": "3.9.7"
  }
 },
 "nbformat": 4,
 "nbformat_minor": 5
}
